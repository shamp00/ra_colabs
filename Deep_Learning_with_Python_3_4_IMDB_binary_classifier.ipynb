{
  "nbformat": 4,
  "nbformat_minor": 0,
  "metadata": {
    "colab": {
      "name": "Deep Learning with Python 3.4 - IMDB binary classifier.ipynb",
      "version": "0.3.2",
      "provenance": [],
      "collapsed_sections": [],
      "include_colab_link": true
    },
    "kernelspec": {
      "name": "python3",
      "display_name": "Python 3"
    }
  },
  "cells": [
    {
      "cell_type": "markdown",
      "metadata": {
        "id": "view-in-github",
        "colab_type": "text"
      },
      "source": [
        "<a href=\"https://colab.research.google.com/github/shamp00/ra_colabs/blob/master/Deep_Learning_with_Python_3_4_IMDB_binary_classifier.ipynb\" target=\"_parent\"><img src=\"https://colab.research.google.com/assets/colab-badge.svg\" alt=\"Open In Colab\"/></a>"
      ]
    },
    {
      "metadata": {
        "id": "eRq_-F93ebYY",
        "colab_type": "text"
      },
      "cell_type": "markdown",
      "source": [
        "#Deep Learning with Python 3.4\n",
        "\n",
        "##Classifying movie reviews\n",
        "\n",
        "A two-class binary classification example: positive vs negative."
      ]
    },
    {
      "metadata": {
        "id": "7vmSwj1-ey2A",
        "colab_type": "code",
        "outputId": "fcea5814-cbba-48b1-871c-b6fb8fb5459b",
        "colab": {
          "base_uri": "https://localhost:8080/",
          "height": 85
        }
      },
      "cell_type": "code",
      "source": [
        "from keras.datasets import imdb\n",
        "\n",
        "# load the data - keep only the top 10000 words in the training data\n",
        "(train_data, train_labels), (test_data, test_labels) = imdb.load_data(num_words = 10000)\n",
        "\n",
        " # imdb provides a dictiomary mapping words to indexes which we need later\n",
        "word_index = imdb.get_word_index()"
      ],
      "execution_count": 0,
      "outputs": [
        {
          "output_type": "stream",
          "text": [
            "Downloading data from https://s3.amazonaws.com/text-datasets/imdb.npz\n",
            "17465344/17464789 [==============================] - 1s 0us/step\n",
            "Downloading data from https://s3.amazonaws.com/text-datasets/imdb_word_index.json\n",
            "1646592/1641221 [==============================] - 0s 0us/step\n"
          ],
          "name": "stdout"
        }
      ]
    },
    {
      "metadata": {
        "id": "HAXcJgpqflP0",
        "colab_type": "text"
      },
      "cell_type": "markdown",
      "source": [
        "We are only considering the top 10000 words. \n",
        "\n",
        "`train_data` contains a series of word indices. Here's the first one:\n",
        "\n",
        "```python\n",
        ">>>train_data[0]\n",
        "[1, 14, 22, ..., 178, 32]\n",
        "```\n",
        "\n",
        "`train_labels` contains the corresponding sentiment. Here's the first one:\n",
        "```python\n",
        ">>>train_labels[0]\n",
        "1\n",
        "```\n",
        "\n",
        "Next, we decode one of these reviews back into English:"
      ]
    },
    {
      "metadata": {
        "id": "T1KubH35fTlW",
        "colab_type": "code",
        "outputId": "d3c38dc7-9e75-4089-9794-fd3aa6f716a6",
        "colab": {
          "base_uri": "https://localhost:8080/",
          "height": 272
        }
      },
      "cell_type": "code",
      "source": [
        "import textwrap\n",
        "\n",
        "# we need the reverse, a dictionary mapping indexes to words\n",
        "reverse_word_index = dict([(value, key) for (key, value) in word_index.items()])\n",
        "# now we can decode the review\n",
        "review = train_data[0]\n",
        "# we offset by 3 because first three are reserved (padding, start of sequence and unknown)\n",
        "decoded_review = ' '.join([reverse_word_index.get(i - 3, '?') for i in review])\n",
        "\n",
        "print(textwrap.fill(decoded_review, 80))\n"
      ],
      "execution_count": 0,
      "outputs": [
        {
          "output_type": "stream",
          "text": [
            "? this film was just brilliant casting location scenery story direction\n",
            "everyone's really suited the part they played and you could just imagine being\n",
            "there robert ? is an amazing actor and now the same being director ? father came\n",
            "from the same scottish island as myself so i loved the fact there was a real\n",
            "connection with this film the witty remarks throughout the film were great it\n",
            "was just brilliant so much that i bought the film as soon as it was released for\n",
            "? and would recommend it to everyone to watch and the fly fishing was amazing\n",
            "really cried at the end it was so sad and you know what they say if you cry at a\n",
            "film it must have been good and this definitely was also ? to the two little\n",
            "boy's that played the ? of norman and paul they were just brilliant children are\n",
            "often left out of the ? list i think because the stars that play them all grown\n",
            "up are such a big profile for the whole film but these children are amazing and\n",
            "should be praised for what they have done don't you think the whole story was so\n",
            "lovely because it was true and was someone's life after all that was shared with\n",
            "us all\n"
          ],
          "name": "stdout"
        }
      ]
    },
    {
      "metadata": {
        "id": "qVvxBvvZjBdO",
        "colab_type": "text"
      },
      "cell_type": "markdown",
      "source": [
        "##Preparing the data\n",
        "\n",
        "We need vectors, not lists of integers. \n",
        "\n",
        "One-hot encoding of integer arrays. That is, each review will be a 10000 dimension vector with a 1 or a 0 in each position depending whether or not the word appears in the review.\n",
        "\n"
      ]
    },
    {
      "metadata": {
        "id": "s4ssvqxtj4EH",
        "colab_type": "code",
        "colab": {}
      },
      "cell_type": "code",
      "source": [
        "import numpy as np\n",
        "\n",
        "def vectorize_sequences(sequences, dimension = 10000):\n",
        "    results = np.zeros((len(sequences), dimension))\n",
        "    for i, sequence in enumerate(sequences):\n",
        "      results[i, sequence] = 1.\n",
        "    return results\n",
        "  \n",
        "# vectorize samples  \n",
        "x_train = vectorize_sequences(train_data)\n",
        "x_test = vectorize_sequences(test_data)\n",
        "\n",
        "# vextorize labels\n",
        "y_train = np.asarray(train_labels).astype('float32')\n",
        "y_test = np.asarray(test_labels).astype('float32')\n",
        "\n",
        "# Set aside a validation set of 10000 from the training data.\n",
        "x_val = x_train[:10000]\n",
        "partial_x_train = x_train[10000:]\n",
        "\n",
        "y_val = y_train[:10000]\n",
        "partial_y_train = y_train[10000:]"
      ],
      "execution_count": 0,
      "outputs": []
    },
    {
      "metadata": {
        "id": "QFVuEqBrlYqk",
        "colab_type": "text"
      },
      "cell_type": "markdown",
      "source": [
        "##Build the network\n",
        "\n",
        "We are trusting Monsieur Chollet at this point.\n",
        "\n",
        "*  An input layer (vectorised text)\n",
        "*  A hidden layer with 16 units and `relu` activation\n",
        "*  A hidden layer with 16 units and `relu` activation\n",
        "*  An output layer consisting of the scalar prediction of sentiment (`sigmoid` activation to get a value between 0 and 1) \n",
        "\n",
        "We choose `binary_crossentropy` as the _loss function_. We could use `mean_squared_error`, but cross-entropy is often the best when outputting probabilities. It is an information-theory quantity that measures the distance between distributions (in this case, the ground-truth distribution and our predictions).\n",
        "\n",
        "We choose `rmsprop` as the optimizer.\n",
        "\n",
        "We'll monitor accuracy."
      ]
    },
    {
      "metadata": {
        "id": "sRgxOm-5k5Tg",
        "colab_type": "code",
        "outputId": "a2cf85a4-4953-4598-dfc4-db1ac5300135",
        "colab": {
          "base_uri": "https://localhost:8080/",
          "height": 255
        }
      },
      "cell_type": "code",
      "source": [
        "from keras import models\n",
        "from keras import layers\n",
        "\n",
        "# Configure the layers\n",
        "model = models.Sequential()\n",
        "model.add(layers.Dense(16, name='hidden_layer_1', activation='relu', input_shape=(10000,)))\n",
        "model.add(layers.Dense(16, name='hidden_layer_2', activation='relu'))\n",
        "model.add(layers.Dense(1, name='output_layer', activation='sigmoid'))\n",
        "\n",
        "# Choose a loss function and an optimiser. Monitor accuracy.\n",
        "model.compile(optimizer='rmsprop',\n",
        "              loss='binary_crossentropy',\n",
        "              metrics=['accuracy'])\n",
        "\n",
        "print(model.summary())"
      ],
      "execution_count": 0,
      "outputs": [
        {
          "output_type": "stream",
          "text": [
            "_________________________________________________________________\n",
            "Layer (type)                 Output Shape              Param #   \n",
            "=================================================================\n",
            "hidden_layer_1 (Dense)       (None, 16)                160016    \n",
            "_________________________________________________________________\n",
            "hidden_layer_2 (Dense)       (None, 16)                272       \n",
            "_________________________________________________________________\n",
            "output_layer (Dense)         (None, 1)                 17        \n",
            "=================================================================\n",
            "Total params: 160,305\n",
            "Trainable params: 160,305\n",
            "Non-trainable params: 0\n",
            "_________________________________________________________________\n",
            "None\n"
          ],
          "name": "stdout"
        }
      ]
    },
    {
      "metadata": {
        "id": "EGGn1W5uov2d",
        "colab_type": "text"
      },
      "cell_type": "markdown",
      "source": [
        "##Visualise the network architecture"
      ]
    },
    {
      "metadata": {
        "id": "SPRFI0hVo0_0",
        "colab_type": "code",
        "outputId": "df22cb9b-6f57-46e9-c078-9c9a855eecae",
        "colab": {
          "base_uri": "https://localhost:8080/",
          "height": 413
        }
      },
      "cell_type": "code",
      "source": [
        "from IPython.display import SVG\n",
        "from keras.utils.vis_utils import model_to_dot\n",
        "\n",
        "SVG(model_to_dot(model, show_shapes=True, show_layer_names=True).create(prog='dot', format='svg'))"
      ],
      "execution_count": 0,
      "outputs": [
        {
          "output_type": "execute_result",
          "data": {
            "text/plain": [
              "<IPython.core.display.SVG object>"
            ],
            "image/svg+xml": "<svg height=\"294pt\" viewBox=\"0.00 0.00 317.00 294.00\" width=\"317pt\" xmlns=\"http://www.w3.org/2000/svg\" xmlns:xlink=\"http://www.w3.org/1999/xlink\">\n<g class=\"graph\" id=\"graph0\" transform=\"scale(1 1) rotate(0) translate(4 290)\">\n<title>G</title>\n<polygon fill=\"#ffffff\" points=\"-4,4 -4,-290 313,-290 313,4 -4,4\" stroke=\"transparent\"/>\n<!-- 140251862513312 -->\n<g class=\"node\" id=\"node1\">\n<title>140251862513312</title>\n<polygon fill=\"none\" points=\"0,-166.5 0,-212.5 309,-212.5 309,-166.5 0,-166.5\" stroke=\"#000000\"/>\n<text fill=\"#000000\" font-family=\"Times,serif\" font-size=\"14.00\" text-anchor=\"middle\" x=\"74.5\" y=\"-185.8\">hidden_layer_1: Dense</text>\n<polyline fill=\"none\" points=\"149,-166.5 149,-212.5 \" stroke=\"#000000\"/>\n<text fill=\"#000000\" font-family=\"Times,serif\" font-size=\"14.00\" text-anchor=\"middle\" x=\"178\" y=\"-197.3\">input:</text>\n<polyline fill=\"none\" points=\"149,-189.5 207,-189.5 \" stroke=\"#000000\"/>\n<text fill=\"#000000\" font-family=\"Times,serif\" font-size=\"14.00\" text-anchor=\"middle\" x=\"178\" y=\"-174.3\">output:</text>\n<polyline fill=\"none\" points=\"207,-166.5 207,-212.5 \" stroke=\"#000000\"/>\n<text fill=\"#000000\" font-family=\"Times,serif\" font-size=\"14.00\" text-anchor=\"middle\" x=\"258\" y=\"-197.3\">(None, 10000)</text>\n<polyline fill=\"none\" points=\"207,-189.5 309,-189.5 \" stroke=\"#000000\"/>\n<text fill=\"#000000\" font-family=\"Times,serif\" font-size=\"14.00\" text-anchor=\"middle\" x=\"258\" y=\"-174.3\">(None, 16)</text>\n</g>\n<!-- 140251862447664 -->\n<g class=\"node\" id=\"node2\">\n<title>140251862447664</title>\n<polygon fill=\"none\" points=\"11,-83.5 11,-129.5 298,-129.5 298,-83.5 11,-83.5\" stroke=\"#000000\"/>\n<text fill=\"#000000\" font-family=\"Times,serif\" font-size=\"14.00\" text-anchor=\"middle\" x=\"85.5\" y=\"-102.8\">hidden_layer_2: Dense</text>\n<polyline fill=\"none\" points=\"160,-83.5 160,-129.5 \" stroke=\"#000000\"/>\n<text fill=\"#000000\" font-family=\"Times,serif\" font-size=\"14.00\" text-anchor=\"middle\" x=\"189\" y=\"-114.3\">input:</text>\n<polyline fill=\"none\" points=\"160,-106.5 218,-106.5 \" stroke=\"#000000\"/>\n<text fill=\"#000000\" font-family=\"Times,serif\" font-size=\"14.00\" text-anchor=\"middle\" x=\"189\" y=\"-91.3\">output:</text>\n<polyline fill=\"none\" points=\"218,-83.5 218,-129.5 \" stroke=\"#000000\"/>\n<text fill=\"#000000\" font-family=\"Times,serif\" font-size=\"14.00\" text-anchor=\"middle\" x=\"258\" y=\"-114.3\">(None, 16)</text>\n<polyline fill=\"none\" points=\"218,-106.5 298,-106.5 \" stroke=\"#000000\"/>\n<text fill=\"#000000\" font-family=\"Times,serif\" font-size=\"14.00\" text-anchor=\"middle\" x=\"258\" y=\"-91.3\">(None, 16)</text>\n</g>\n<!-- 140251862513312&#45;&gt;140251862447664 -->\n<g class=\"edge\" id=\"edge2\">\n<title>140251862513312-&gt;140251862447664</title>\n<path d=\"M154.5,-166.3799C154.5,-158.1745 154.5,-148.7679 154.5,-139.8786\" fill=\"none\" stroke=\"#000000\"/>\n<polygon fill=\"#000000\" points=\"158.0001,-139.784 154.5,-129.784 151.0001,-139.784 158.0001,-139.784\" stroke=\"#000000\"/>\n</g>\n<!-- 140252004747584 -->\n<g class=\"node\" id=\"node3\">\n<title>140252004747584</title>\n<polygon fill=\"none\" points=\"19.5,-.5 19.5,-46.5 289.5,-46.5 289.5,-.5 19.5,-.5\" stroke=\"#000000\"/>\n<text fill=\"#000000\" font-family=\"Times,serif\" font-size=\"14.00\" text-anchor=\"middle\" x=\"85.5\" y=\"-19.8\">output_layer: Dense</text>\n<polyline fill=\"none\" points=\"151.5,-.5 151.5,-46.5 \" stroke=\"#000000\"/>\n<text fill=\"#000000\" font-family=\"Times,serif\" font-size=\"14.00\" text-anchor=\"middle\" x=\"180.5\" y=\"-31.3\">input:</text>\n<polyline fill=\"none\" points=\"151.5,-23.5 209.5,-23.5 \" stroke=\"#000000\"/>\n<text fill=\"#000000\" font-family=\"Times,serif\" font-size=\"14.00\" text-anchor=\"middle\" x=\"180.5\" y=\"-8.3\">output:</text>\n<polyline fill=\"none\" points=\"209.5,-.5 209.5,-46.5 \" stroke=\"#000000\"/>\n<text fill=\"#000000\" font-family=\"Times,serif\" font-size=\"14.00\" text-anchor=\"middle\" x=\"249.5\" y=\"-31.3\">(None, 16)</text>\n<polyline fill=\"none\" points=\"209.5,-23.5 289.5,-23.5 \" stroke=\"#000000\"/>\n<text fill=\"#000000\" font-family=\"Times,serif\" font-size=\"14.00\" text-anchor=\"middle\" x=\"249.5\" y=\"-8.3\">(None, 1)</text>\n</g>\n<!-- 140251862447664&#45;&gt;140252004747584 -->\n<g class=\"edge\" id=\"edge3\">\n<title>140251862447664-&gt;140252004747584</title>\n<path d=\"M154.5,-83.3799C154.5,-75.1745 154.5,-65.7679 154.5,-56.8786\" fill=\"none\" stroke=\"#000000\"/>\n<polygon fill=\"#000000\" points=\"158.0001,-56.784 154.5,-46.784 151.0001,-56.784 158.0001,-56.784\" stroke=\"#000000\"/>\n</g>\n<!-- 140252006328360 -->\n<g class=\"node\" id=\"node4\">\n<title>140252006328360</title>\n<polygon fill=\"none\" points=\"90,-249.5 90,-285.5 219,-285.5 219,-249.5 90,-249.5\" stroke=\"#000000\"/>\n<text fill=\"#000000\" font-family=\"Times,serif\" font-size=\"14.00\" text-anchor=\"middle\" x=\"154.5\" y=\"-263.8\">140252006328360</text>\n</g>\n<!-- 140252006328360&#45;&gt;140251862513312 -->\n<g class=\"edge\" id=\"edge1\">\n<title>140252006328360-&gt;140251862513312</title>\n<path d=\"M154.5,-249.4092C154.5,-241.4308 154.5,-231.795 154.5,-222.606\" fill=\"none\" stroke=\"#000000\"/>\n<polygon fill=\"#000000\" points=\"158.0001,-222.5333 154.5,-212.5333 151.0001,-222.5334 158.0001,-222.5333\" stroke=\"#000000\"/>\n</g>\n</g>\n</svg>"
          },
          "metadata": {
            "tags": []
          },
          "execution_count": 23
        }
      ]
    },
    {
      "metadata": {
        "id": "dp6Cj1--o7RR",
        "colab_type": "text"
      },
      "cell_type": "markdown",
      "source": [
        "##Train the model for 20 epochs\n"
      ]
    },
    {
      "metadata": {
        "id": "uYsPonj3pwLC",
        "colab_type": "code",
        "outputId": "b502f396-4f5b-495e-e4d8-e6802621d2e4",
        "colab": {
          "base_uri": "https://localhost:8080/",
          "height": 785
        }
      },
      "cell_type": "code",
      "source": [
        "history = model.fit(partial_x_train, \n",
        "                    partial_y_train,\n",
        "                    epochs=20,\n",
        "                    batch_size=512,\n",
        "                    validation_data=(x_val, y_val))"
      ],
      "execution_count": 0,
      "outputs": [
        {
          "output_type": "stream",
          "text": [
            "WARNING:tensorflow:From /usr/local/lib/python3.6/dist-packages/tensorflow/python/ops/math_ops.py:3066: to_int32 (from tensorflow.python.ops.math_ops) is deprecated and will be removed in a future version.\n",
            "Instructions for updating:\n",
            "Use tf.cast instead.\n",
            "Train on 15000 samples, validate on 10000 samples\n",
            "Epoch 1/20\n",
            "15000/15000 [==============================] - 3s 211us/step - loss: 0.5049 - acc: 0.7870 - val_loss: 0.3775 - val_acc: 0.8701\n",
            "Epoch 2/20\n",
            "15000/15000 [==============================] - 3s 167us/step - loss: 0.2993 - acc: 0.9046 - val_loss: 0.3004 - val_acc: 0.8896\n",
            "Epoch 3/20\n",
            "15000/15000 [==============================] - 3s 168us/step - loss: 0.2175 - acc: 0.9284 - val_loss: 0.3082 - val_acc: 0.8720\n",
            "Epoch 4/20\n",
            "15000/15000 [==============================] - 3s 169us/step - loss: 0.1748 - acc: 0.9437 - val_loss: 0.2826 - val_acc: 0.8842\n",
            "Epoch 5/20\n",
            "15000/15000 [==============================] - 2s 166us/step - loss: 0.1422 - acc: 0.9539 - val_loss: 0.2855 - val_acc: 0.8860\n",
            "Epoch 6/20\n",
            "15000/15000 [==============================] - 3s 167us/step - loss: 0.1148 - acc: 0.9652 - val_loss: 0.3153 - val_acc: 0.8774\n",
            "Epoch 7/20\n",
            "15000/15000 [==============================] - 3s 168us/step - loss: 0.0979 - acc: 0.9711 - val_loss: 0.3130 - val_acc: 0.8842\n",
            "Epoch 8/20\n",
            "15000/15000 [==============================] - 3s 167us/step - loss: 0.0806 - acc: 0.9763 - val_loss: 0.3870 - val_acc: 0.8654\n",
            "Epoch 9/20\n",
            "15000/15000 [==============================] - 3s 167us/step - loss: 0.0660 - acc: 0.9821 - val_loss: 0.3639 - val_acc: 0.8777\n",
            "Epoch 10/20\n",
            "15000/15000 [==============================] - 3s 167us/step - loss: 0.0550 - acc: 0.9853 - val_loss: 0.3878 - val_acc: 0.8777\n",
            "Epoch 11/20\n",
            "15000/15000 [==============================] - 3s 169us/step - loss: 0.0434 - acc: 0.9901 - val_loss: 0.4188 - val_acc: 0.8764\n",
            "Epoch 12/20\n",
            "15000/15000 [==============================] - 2s 166us/step - loss: 0.0380 - acc: 0.9915 - val_loss: 0.4564 - val_acc: 0.8699\n",
            "Epoch 13/20\n",
            "15000/15000 [==============================] - 3s 169us/step - loss: 0.0292 - acc: 0.9931 - val_loss: 0.4744 - val_acc: 0.8741\n",
            "Epoch 14/20\n",
            "15000/15000 [==============================] - 3s 168us/step - loss: 0.0247 - acc: 0.9947 - val_loss: 0.5071 - val_acc: 0.8716\n",
            "Epoch 15/20\n",
            "15000/15000 [==============================] - 3s 168us/step - loss: 0.0168 - acc: 0.9985 - val_loss: 0.5526 - val_acc: 0.8673\n",
            "Epoch 16/20\n",
            "15000/15000 [==============================] - 3s 167us/step - loss: 0.0157 - acc: 0.9972 - val_loss: 0.5804 - val_acc: 0.8695\n",
            "Epoch 17/20\n",
            "15000/15000 [==============================] - 3s 168us/step - loss: 0.0097 - acc: 0.9993 - val_loss: 0.6485 - val_acc: 0.8615\n",
            "Epoch 18/20\n",
            "15000/15000 [==============================] - 2s 167us/step - loss: 0.0121 - acc: 0.9972 - val_loss: 0.6493 - val_acc: 0.8673\n",
            "Epoch 19/20\n",
            "15000/15000 [==============================] - 3s 167us/step - loss: 0.0052 - acc: 0.9997 - val_loss: 0.7315 - val_acc: 0.8570\n",
            "Epoch 20/20\n",
            "15000/15000 [==============================] - 3s 167us/step - loss: 0.0095 - acc: 0.9979 - val_loss: 0.7077 - val_acc: 0.8660\n"
          ],
          "name": "stdout"
        }
      ]
    },
    {
      "metadata": {
        "id": "Rl-HUYBiqk27",
        "colab_type": "text"
      },
      "cell_type": "markdown",
      "source": [
        "##Plot training and validation loss"
      ]
    },
    {
      "metadata": {
        "id": "ycO3LDBspF9o",
        "colab_type": "code",
        "outputId": "11b9dad1-1dec-4c7f-b46c-9ab3d410b725",
        "colab": {
          "base_uri": "https://localhost:8080/",
          "height": 376
        }
      },
      "cell_type": "code",
      "source": [
        "import matplotlib.pyplot as plt\n",
        "\n",
        "history_dict = history.history\n",
        "loss_values = history_dict['loss']\n",
        "val_loss_values = history_dict['val_loss']\n",
        "acc_values = history_dict['acc']\n",
        "\n",
        "epochs = range(1, len(acc_values) + 1)\n",
        "\n",
        "plt.plot(epochs, loss_values, 'bo', label='Training loss') # 'bo' is 'blue dot'\n",
        "plt.plot(epochs, val_loss_values, 'b', label='Validation loss') # 'b' is 'solid blue line'\n",
        "plt.title('Training and validation loss')\n",
        "plt.xlabel('Epochs')\n",
        "plt.ylabel('Loss')\n",
        "plt.legend()\n",
        "\n",
        "plt.show()\n"
      ],
      "execution_count": 0,
      "outputs": [
        {
          "output_type": "display_data",
          "data": {
            "image/png": "[encoded data removed]",
            "text/plain": [
              "<Figure size 576x396 with 1 Axes>"
            ]
          },
          "metadata": {
            "tags": []
          }
        }
      ]
    },
    {
      "metadata": {
        "colab_type": "text",
        "id": "rtWgXBD7r_FT"
      },
      "cell_type": "markdown",
      "source": [
        "##Plot training and validation accuracy"
      ]
    },
    {
      "metadata": {
        "colab_type": "code",
        "outputId": "01afd11c-899c-4786-9839-2f8b29598a56",
        "id": "lKzS4mydr_FT",
        "colab": {
          "base_uri": "https://localhost:8080/",
          "height": 376
        }
      },
      "cell_type": "code",
      "source": [
        "plt.clf() # clear the figure\n",
        "\n",
        "acc_values = history_dict['acc']\n",
        "val_acc_values = history_dict['val_acc']\n",
        "\n",
        "plt.plot(epochs, acc_values, 'bo', label='Training accuracy') # 'bo' is 'blue dot'\n",
        "plt.plot(epochs, val_acc_values, 'b', label='Validation accuracy') # 'b' is 'solid blue line'\n",
        "plt.title('Training and validation accuracy')\n",
        "plt.xlabel('Epochs')\n",
        "plt.ylabel('Accuracy')\n",
        "plt.legend()\n",
        "\n",
        "plt.show()\n"
      ],
      "execution_count": 0,
      "outputs": [
        {
          "output_type": "display_data",
          "data": {
            "image/png": "[encoded data removed]",
            "text/plain": [
              "<Figure size 576x396 with 1 Axes>"
            ]
          },
          "metadata": {
            "tags": []
          }
        }
      ]
    },
    {
      "metadata": {
        "id": "wvuTupOgtfhE",
        "colab_type": "text"
      },
      "cell_type": "markdown",
      "source": [
        "##Analysis\n",
        "\n",
        "The _training_ loss and accuracy just get better and better. But _validation_ loss and validation accuracy peak at about epoch 4.\n",
        "\n",
        "By using 20 epochs we are _overfitting_. \n",
        "\n",
        "## Final model\n",
        "Let's train a new network from scratch for 4 epochs."
      ]
    },
    {
      "metadata": {
        "id": "4GcVb8hduLzJ",
        "colab_type": "code",
        "outputId": "138beba2-2fe6-4a6c-8d51-6cbf5f59341a",
        "colab": {
          "base_uri": "https://localhost:8080/",
          "height": 408
        }
      },
      "cell_type": "code",
      "source": [
        "# Configure the layers\n",
        "model = models.Sequential()\n",
        "model.add(layers.Dense(16, activation='relu', input_shape=(10000,)))\n",
        "model.add(layers.Dense(16, activation='relu'))\n",
        "model.add(layers.Dense(1, activation='sigmoid'))\n",
        "\n",
        "# Choose a loss function and an optimiser. Monitor accuracy.\n",
        "model.compile(optimizer='rmsprop',\n",
        "              loss='binary_crossentropy',\n",
        "              metrics=['accuracy'])\n",
        "\n",
        "history = model.fit(partial_x_train, \n",
        "                    partial_y_train,\n",
        "                    epochs=4,   # only 4 epochs this time\n",
        "                    batch_size=512,\n",
        "                    validation_data=(x_val, y_val))\n",
        "\n",
        "results = model.evaluate(x_test, y_test)\n",
        "\n",
        "print()\n",
        "print(f'Results [loss, accuracy] = {results}')\n",
        "\n",
        "#Show some predictions\n",
        "predictions = model.predict(x_test[:10])\n",
        "\n",
        "print('First 10 predictions')\n",
        "print(predictions)\n"
      ],
      "execution_count": 0,
      "outputs": [
        {
          "output_type": "stream",
          "text": [
            "Train on 15000 samples, validate on 10000 samples\n",
            "Epoch 1/4\n",
            "15000/15000 [==============================] - 3s 203us/step - loss: 0.5216 - acc: 0.8025 - val_loss: 0.3976 - val_acc: 0.8656\n",
            "Epoch 2/4\n",
            "15000/15000 [==============================] - 3s 170us/step - loss: 0.3169 - acc: 0.8969 - val_loss: 0.3163 - val_acc: 0.8803\n",
            "Epoch 3/4\n",
            "15000/15000 [==============================] - 3s 168us/step - loss: 0.2323 - acc: 0.9253 - val_loss: 0.2811 - val_acc: 0.8916\n",
            "Epoch 4/4\n",
            "15000/15000 [==============================] - 3s 170us/step - loss: 0.1854 - acc: 0.9381 - val_loss: 0.2736 - val_acc: 0.8921\n",
            "25000/25000 [==============================] - 2s 68us/step\n",
            "\n",
            "Results [loss, accuracy] = [0.28958480754852295, 0.88316]\n",
            "First 10 predictions\n",
            "[[0.31009817]\n",
            " [0.9986479 ]\n",
            " [0.8991208 ]\n",
            " [0.72334474]\n",
            " [0.9026884 ]\n",
            " [0.83131695]\n",
            " [0.99796   ]\n",
            " [0.06170729]\n",
            " [0.91312796]\n",
            " [0.9777608 ]]\n"
          ],
          "name": "stdout"
        }
      ]
    }
  ]
}